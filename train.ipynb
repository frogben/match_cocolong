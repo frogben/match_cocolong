{
 "cells": [
  {
   "cell_type": "code",
   "execution_count": 1,
   "metadata": {},
   "outputs": [],
   "source": [
    "import pandas as pd\n",
    "import numpy as np\n",
    "from scipy.sparse import coo_matrix\n",
    "import CustomerPrepreocess"
   ]
  },
  {
   "cell_type": "code",
   "execution_count": 2,
   "metadata": {},
   "outputs": [],
   "source": [
    "df_cus_all = pd.read_csv('data/Customer.csv'\n",
    ",usecols=['CustomerCode','IsOrder','IsDeal','OrderAgentID']\n",
    ",dtype={'OrderAgentID':str})\n",
    "df_sale = pd.read_excel('data/sales.xlsx',dtype={'AgentID':str})"
   ]
  },
  {
   "cell_type": "code",
   "execution_count": 3,
   "metadata": {},
   "outputs": [
    {
     "name": "stderr",
     "output_type": "stream",
     "text": [
      "Using TensorFlow backend.\n"
     ]
    }
   ],
   "source": [
    "df_cus = pd.read_csv('data/Customer.csv',usecols=\n",
    "['CustomerCode','IsOrder','ProjectRouteCover'\n",
    " ,'KIStatus','Gender','StudyTarget2','JobType'\n",
    " ,'WatchTimes','LearningPurpose','ActionForce'\n",
    " ,'CustomerExpRating','Age']\n",
    ",dtype={\"LearningPurpose\": str,'ActionForce':str})\n",
    "df_cus_trim=CustomerPrepreocess.process(df_cus,'train')"
   ]
  },
  {
   "cell_type": "code",
   "execution_count": 4,
   "metadata": {},
   "outputs": [],
   "source": [
    "df_cus_all=df_cus_all[df_cus_all.CustomerCode.isin(df_cus_trim.CustomerCode)==True]"
   ]
  },
  {
   "cell_type": "code",
   "execution_count": 5,
   "metadata": {},
   "outputs": [],
   "source": [
    "df_cus=df_cus_all"
   ]
  },
  {
   "cell_type": "code",
   "execution_count": 6,
   "metadata": {},
   "outputs": [
    {
     "data": {
      "text/plain": [
       "(216958, 4)"
      ]
     },
     "execution_count": 6,
     "metadata": {},
     "output_type": "execute_result"
    }
   ],
   "source": [
    "df_cus.shape"
   ]
  },
  {
   "cell_type": "markdown",
   "metadata": {},
   "source": [
    "# data"
   ]
  },
  {
   "cell_type": "code",
   "execution_count": 7,
   "metadata": {},
   "outputs": [],
   "source": [
    "def order_customer_feature(df_cus,customer_list):\n",
    "    df_cus=df_cus.set_index('CustomerCode')\n",
    "    df_cus=df_cus.reindex(customer_list)\n",
    "    df_cus=df_cus.reset_index()\n",
    "    return df_cus\n",
    "def align_ID(id):\n",
    "    return id.rjust(6,'0')\n",
    "df_sale.AgentID=df_sale.AgentID.apply(align_ID)\n",
    "customer_list=df_cus.CustomerCode.unique().tolist()\n",
    "sale_list=df_sale.AgentID.unique().tolist()"
   ]
  },
  {
   "cell_type": "code",
   "execution_count": 8,
   "metadata": {},
   "outputs": [],
   "source": [
    "df_cus.IsOrder=df_cus.IsOrder.fillna(0)\n",
    "df_cus.IsDeal=df_cus.IsDeal.fillna(0)"
   ]
  },
  {
   "cell_type": "code",
   "execution_count": 9,
   "metadata": {},
   "outputs": [],
   "source": [
    "row_index  = []\n",
    "col_index  = []\n",
    "data = []\n",
    "list_data=df_cus.values.tolist()\n",
    "col=list(df_cus.columns.values)\n",
    "list_len=len(list_data)\n",
    "for idx, val in enumerate(list_data):\n",
    "#     print(list_data[idx])\n",
    "    row=dict(zip(col,list_data[idx]))\n",
    "    if (((row['IsOrder']>0) or (row['IsDeal']>0)) and (row['OrderAgentID'] in sale_list)):\n",
    "        sale_index=sale_list.index(row['OrderAgentID'])\n",
    "        row_index.append(sale_index)\n",
    "        col_index.append(idx)\n",
    "        data.append(1)"
   ]
  },
  {
   "cell_type": "code",
   "execution_count": 10,
   "metadata": {},
   "outputs": [],
   "source": [
    "sparse_data=coo_matrix((data, (row_index, col_index)))"
   ]
  },
  {
   "cell_type": "code",
   "execution_count": 11,
   "metadata": {},
   "outputs": [
    {
     "data": {
      "text/plain": [
       "(454, 216935)"
      ]
     },
     "execution_count": 11,
     "metadata": {},
     "output_type": "execute_result"
    }
   ],
   "source": [
    "sparse_data.toarray().shape"
   ]
  },
  {
   "cell_type": "markdown",
   "metadata": {},
   "source": [
    "# order feature(customer)"
   ]
  },
  {
   "cell_type": "code",
   "execution_count": 12,
   "metadata": {},
   "outputs": [],
   "source": [
    "def order_customer_feature(df_cus,customer_list):\n",
    "    df_cus=df_cus.set_index('CustomerCode')\n",
    "    df_cus=df_cus.reindex(customer_list)\n",
    "    df_cus=df_cus.reset_index()\n",
    "    return df_cus"
   ]
  },
  {
   "cell_type": "code",
   "execution_count": 13,
   "metadata": {},
   "outputs": [],
   "source": [
    "customer_feature=order_customer_feature(df_cus_trim,customer_list)"
   ]
  },
  {
   "cell_type": "code",
   "execution_count": 14,
   "metadata": {},
   "outputs": [],
   "source": [
    "customer_feature=customer_feature.set_index('CustomerCode')"
   ]
  },
  {
   "cell_type": "code",
   "execution_count": 15,
   "metadata": {},
   "outputs": [],
   "source": [
    "row_index  = []\n",
    "col_index  = []\n",
    "data = []\n",
    "list_data=customer_feature.values.tolist()\n",
    "col=list(customer_feature.columns.values)\n",
    "list_len=len(list_data)\n",
    "for idx, val in enumerate(list_data):\n",
    "    for idx_2, val_2 in enumerate(val):\n",
    "        if(val_2>0):\n",
    "            row_index.append(idx)\n",
    "            col_index.append(idx_2)\n",
    "            data.append(val_2)"
   ]
  },
  {
   "cell_type": "code",
   "execution_count": 16,
   "metadata": {},
   "outputs": [],
   "source": [
    "sparse_customer_feature=coo_matrix((data, (row_index, col_index))).tocsr()"
   ]
  },
  {
   "cell_type": "code",
   "execution_count": 17,
   "metadata": {},
   "outputs": [
    {
     "data": {
      "text/plain": [
       "scipy.sparse.csr.csr_matrix"
      ]
     },
     "execution_count": 17,
     "metadata": {},
     "output_type": "execute_result"
    }
   ],
   "source": [
    "type(sparse_customer_feature)"
   ]
  },
  {
   "cell_type": "code",
   "execution_count": 18,
   "metadata": {},
   "outputs": [
    {
     "data": {
      "text/plain": [
       "(216958, 55)"
      ]
     },
     "execution_count": 18,
     "metadata": {},
     "output_type": "execute_result"
    }
   ],
   "source": [
    "sparse_customer_feature.toarray().shape"
   ]
  },
  {
   "cell_type": "markdown",
   "metadata": {},
   "source": [
    "# saler feature"
   ]
  },
  {
   "cell_type": "code",
   "execution_count": null,
   "metadata": {},
   "outputs": [],
   "source": []
  },
  {
   "cell_type": "markdown",
   "metadata": {},
   "source": [
    "# train"
   ]
  },
  {
   "cell_type": "code",
   "execution_count": 19,
   "metadata": {},
   "outputs": [],
   "source": [
    "from lightfm import cross_validation\n",
    "train,test=cross_validation.random_train_test_split(sparse_data,0.1)"
   ]
  },
  {
   "cell_type": "code",
   "execution_count": 20,
   "metadata": {},
   "outputs": [
    {
     "data": {
      "text/plain": [
       "<lightfm.lightfm.LightFM at 0x7fa4fe590668>"
      ]
     },
     "execution_count": 20,
     "metadata": {},
     "output_type": "execute_result"
    }
   ],
   "source": [
    "from lightfm import LightFM\n",
    "from lightfm.datasets import fetch_movielens\n",
    "from lightfm.evaluation import precision_at_k\n",
    "from lightfm.evaluation import auc_score\n",
    "\n",
    "model = LightFM(loss='warp-kos')\n",
    "model.fit(sparse_data, epochs=10, num_threads=4)"
   ]
  },
  {
   "cell_type": "markdown",
   "metadata": {},
   "source": [
    "# test"
   ]
  },
  {
   "cell_type": "code",
   "execution_count": 21,
   "metadata": {},
   "outputs": [
    {
     "name": "stdout",
     "output_type": "stream",
     "text": [
      "train auc:  0.9145238\n",
      "test auc: 0.8542552\n"
     ]
    }
   ],
   "source": [
    "print('train auc: ',auc_score(model,train,num_threads=2).mean())\n",
    "print('test auc:',auc_score(model,test, train_interactions=train, num_threads=2).mean())"
   ]
  },
  {
   "cell_type": "code",
   "execution_count": 22,
   "metadata": {},
   "outputs": [
    {
     "data": {
      "text/plain": [
       "0.061077844"
      ]
     },
     "execution_count": 22,
     "metadata": {},
     "output_type": "execute_result"
    }
   ],
   "source": [
    "precision_at_k(model, test, k=10).mean()"
   ]
  },
  {
   "cell_type": "code",
   "execution_count": 23,
   "metadata": {},
   "outputs": [
    {
     "data": {
      "text/plain": [
       "0.34082398"
      ]
     },
     "execution_count": 23,
     "metadata": {},
     "output_type": "execute_result"
    }
   ],
   "source": [
    "precision_at_k(model, train, k=10).mean()"
   ]
  }
 ],
 "metadata": {
  "kernelspec": {
   "display_name": "Python 3",
   "language": "python",
   "name": "python3"
  },
  "language_info": {
   "codemirror_mode": {
    "name": "ipython",
    "version": 3
   },
   "file_extension": ".py",
   "mimetype": "text/x-python",
   "name": "python",
   "nbconvert_exporter": "python",
   "pygments_lexer": "ipython3",
   "version": "3.5.2"
  }
 },
 "nbformat": 4,
 "nbformat_minor": 2
}
